{
 "cells": [
  {
   "cell_type": "markdown",
   "id": "84859d71",
   "metadata": {},
   "source": [
    "Prince Kumar sharma"
   ]
  },
  {
   "cell_type": "markdown",
   "id": "3d410f3d",
   "metadata": {},
   "source": [
    "### Python Interview Questions"
   ]
  },
  {
   "cell_type": "markdown",
   "id": "a5c029e2",
   "metadata": {},
   "source": [
    "# Question : Find the Name whose Name Start with P and M ?"
   ]
  },
  {
   "cell_type": "code",
   "execution_count": 14,
   "id": "405d1585",
   "metadata": {
    "scrolled": true
   },
   "outputs": [
    {
     "name": "stdout",
     "output_type": "stream",
     "text": [
      "Name Starts With P : Prince\n",
      "Name Starts with M : Mummy\n",
      "Name Starts with M : Mamata sharma\n",
      "Name Starts With P : Priyanshi\n",
      "Name Starts With P : Priyanshu\n"
     ]
    }
   ],
   "source": [
    "x=[\"Prince\",\"Mummy\",\"Mamata sharma\",\"Ankit\",\"Kumod\",\"Rajat\",\"Priyanshi\",\"Priyanshu\",\"Ritika\"]\n",
    "for i in x:\n",
    "    if i.startswith(\"P\"):\n",
    "        print(f\"Name Starts With P : {i}\")\n",
    "    elif i.startswith(\"M\"):\n",
    "        print(f\"Name Starts with M : {i}\")\n",
    "    else:\n",
    "        continue\n"
   ]
  },
  {
   "cell_type": "code",
   "execution_count": null,
   "id": "a6e06f85",
   "metadata": {},
   "outputs": [],
   "source": []
  },
  {
   "cell_type": "markdown",
   "id": "78700e84",
   "metadata": {},
   "source": [
    "## Done  ⭐⭐⭐⭐💫"
   ]
  }
 ],
 "metadata": {
  "kernelspec": {
   "display_name": "Python 3 (ipykernel)",
   "language": "python",
   "name": "python3"
  },
  "language_info": {
   "codemirror_mode": {
    "name": "ipython",
    "version": 3
   },
   "file_extension": ".py",
   "mimetype": "text/x-python",
   "name": "python",
   "nbconvert_exporter": "python",
   "pygments_lexer": "ipython3",
   "version": "3.9.13"
  }
 },
 "nbformat": 4,
 "nbformat_minor": 5
}
