{
 "cells": [
  {
   "cell_type": "markdown",
   "id": "51a5a3dd",
   "metadata": {},
   "source": [
    "# Python Basic QUestion"
   ]
  },
  {
   "cell_type": "code",
   "execution_count": null,
   "id": "a2dc9df8",
   "metadata": {},
   "outputs": [],
   "source": []
  },
  {
   "cell_type": "markdown",
   "id": "a972409a",
   "metadata": {},
   "source": [
    "# Python3 program to swap first and last element of a list"
   ]
  },
  {
   "cell_type": "code",
   "execution_count": 7,
   "id": "8d41f9d9",
   "metadata": {},
   "outputs": [
    {
     "name": "stdout",
     "output_type": "stream",
     "text": [
      "[24, 35, 9, 56, 12]\n"
     ]
    }
   ],
   "source": [
    "\n",
    "# Swap function\n",
    "def swapList(newList):\n",
    "\tsize = len(newList)\n",
    "\t\n",
    "\t# Swapping\n",
    "\ttemp = newList[0]\n",
    "\tnewList[0] = newList[size - 1]\n",
    "\tnewList[size - 1] = temp\n",
    "\t\n",
    "\treturn newList\n",
    "\t\n",
    "# Driver code\n",
    "newList = [12, 35, 9, 56, 24]\n",
    "\n",
    "print(swapList(newList))\n"
   ]
  },
  {
   "cell_type": "markdown",
   "id": "29b70f70",
   "metadata": {},
   "source": [
    "# Or"
   ]
  },
  {
   "cell_type": "code",
   "execution_count": 38,
   "id": "e2e1ec09",
   "metadata": {},
   "outputs": [
    {
     "name": "stdout",
     "output_type": "stream",
     "text": [
      "Old List :-  [12, 45, 78, 89, 56, 23]\n",
      "New List :-  [23, 45, 78, 89, 56, 45]\n"
     ]
    }
   ],
   "source": [
    "x=[12,45,78,89,56,23]\n",
    "y=x.copy()\n",
    "x[0]=x[-1]\n",
    "x[-1]=x[1]\n",
    "print(\"Old List :- \",y)\n",
    "print(\"New List :- \",x)"
   ]
  },
  {
   "cell_type": "markdown",
   "id": "6a678ec8",
   "metadata": {},
   "source": [
    "# Or"
   ]
  },
  {
   "cell_type": "code",
   "execution_count": 36,
   "id": "ca718c52",
   "metadata": {},
   "outputs": [],
   "source": [
    "def swapc():\n",
    "    x=list(map(int,input(\"Enter Number with comma seperated\").split(\",\")))\n",
    "    #x=list(i for i in map(int,input(\"enter Number with Comma seperated :- \").split(\",\")))\n",
    "    y=x.copy()\n",
    "    print(f\"Old list : -  {x}\")\n",
    "    y[0]=y[-1]\n",
    "    y[-1]=y[0]\n",
    "    print(f\"New List : -  {y}\")\n"
   ]
  },
  {
   "cell_type": "code",
   "execution_count": 37,
   "id": "bb0de4bc",
   "metadata": {},
   "outputs": [
    {
     "name": "stdout",
     "output_type": "stream",
     "text": [
      "Enter Number with comma seperated12,56,89,78,4556,23\n",
      "Old list : -  [12, 56, 89, 78, 4556, 23]\n",
      "New List : -  [23, 56, 89, 78, 4556, 23]\n"
     ]
    }
   ],
   "source": [
    "swapc()"
   ]
  },
  {
   "cell_type": "code",
   "execution_count": null,
   "id": "65b495ff",
   "metadata": {},
   "outputs": [],
   "source": []
  },
  {
   "cell_type": "markdown",
   "id": "17e07ed2",
   "metadata": {},
   "source": [
    "# Create a List with the Help of User input"
   ]
  },
  {
   "cell_type": "code",
   "execution_count": 32,
   "id": "cb27b79c",
   "metadata": {},
   "outputs": [
    {
     "name": "stdout",
     "output_type": "stream",
     "text": [
      "enter45,78,89,56,23,23,56\n"
     ]
    },
    {
     "data": {
      "text/plain": [
       "[45, 78, 89, 56, 23, 23, 56]"
      ]
     },
     "execution_count": 32,
     "metadata": {},
     "output_type": "execute_result"
    }
   ],
   "source": [
    "[i for i in map(int,input(\"enter\").split(\",\"))]"
   ]
  },
  {
   "cell_type": "code",
   "execution_count": 33,
   "id": "929edafc",
   "metadata": {},
   "outputs": [
    {
     "name": "stdout",
     "output_type": "stream",
     "text": [
      "45,89,89,256\n"
     ]
    },
    {
     "data": {
      "text/plain": [
       "[45, 89, 89, 256]"
      ]
     },
     "execution_count": 33,
     "metadata": {},
     "output_type": "execute_result"
    }
   ],
   "source": [
    "x=map(int,input().split(\",\"))\n",
    "list(x)"
   ]
  },
  {
   "cell_type": "markdown",
   "id": "eee6d0a8",
   "metadata": {},
   "source": [
    "## Done _____________________________________________________📝📝📝📝📝"
   ]
  },
  {
   "cell_type": "code",
   "execution_count": null,
   "id": "d1baf818",
   "metadata": {},
   "outputs": [],
   "source": []
  }
 ],
 "metadata": {
  "kernelspec": {
   "display_name": "Python 3 (ipykernel)",
   "language": "python",
   "name": "python3"
  },
  "language_info": {
   "codemirror_mode": {
    "name": "ipython",
    "version": 3
   },
   "file_extension": ".py",
   "mimetype": "text/x-python",
   "name": "python",
   "nbconvert_exporter": "python",
   "pygments_lexer": "ipython3",
   "version": "3.9.13"
  }
 },
 "nbformat": 4,
 "nbformat_minor": 5
}
