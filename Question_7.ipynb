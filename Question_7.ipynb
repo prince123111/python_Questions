{
 "cells": [
  {
   "cell_type": "markdown",
   "id": "14e8db62",
   "metadata": {},
   "source": [
    "# Python Basic Question"
   ]
  },
  {
   "cell_type": "markdown",
   "id": "216bdf6a",
   "metadata": {},
   "source": [
    "### 4. Write a program which accepts a sequence of comma-separated numbers from console and generate a list and a tuple which contains every number."
   ]
  },
  {
   "cell_type": "code",
   "execution_count": 6,
   "id": "80547cf1",
   "metadata": {},
   "outputs": [
    {
     "name": "stdout",
     "output_type": "stream",
     "text": [
      "Enter the number with comma1,2,4,5,6\n",
      "[1, 2, 4, 5, 6]\n",
      "(1, 2, 4, 5, 6)\n"
     ]
    }
   ],
   "source": [
    "lis=[]\n",
    "x=input(\"Enter the number with comma\").split(\",\")\n",
    "for i in x:\n",
    "    lis.append(int(i))\n",
    "print(lis)\n",
    "tup=tuple(lis)\n",
    "print(tup)\n",
    "    "
   ]
  },
  {
   "cell_type": "code",
   "execution_count": 9,
   "id": "85f6447e",
   "metadata": {},
   "outputs": [
    {
     "name": "stdout",
     "output_type": "stream",
     "text": [
      "Enter the Number with Comma seperated :-45,78,56,78\n",
      "['45', '78', '56', '78']\n",
      "('45', '78', '56', '78')\n"
     ]
    }
   ],
   "source": [
    "x=input(\"Enter the Number with Comma seperated :-\").split(\",\")\n",
    "lis=list(x)\n",
    "tup=tuple(lis)\n",
    "print(lis)\n",
    "print(tup)\n"
   ]
  },
  {
   "cell_type": "code",
   "execution_count": 12,
   "id": "be57ef3e",
   "metadata": {},
   "outputs": [
    {
     "name": "stdout",
     "output_type": "stream",
     "text": [
      "enter number :-1,4,5,7,8,10\n",
      "[1, 4, 5, 7, 8, 10]\n",
      "(1, 4, 5, 7, 8, 10)\n"
     ]
    }
   ],
   "source": [
    "a=[]\n",
    "b=0\n",
    "c=input(\"enter number :-\").split(\",\")\n",
    "d=len(c)\n",
    "while d>b:\n",
    "    a.append(int(c[b]))\n",
    "    b+=1\n",
    "\n",
    "print(a)\n",
    "print(tuple(a))"
   ]
  },
  {
   "cell_type": "markdown",
   "id": "5f359774",
   "metadata": {},
   "source": [
    "# Done______________________________---------"
   ]
  },
  {
   "cell_type": "code",
   "execution_count": null,
   "id": "863ab824",
   "metadata": {},
   "outputs": [],
   "source": []
  }
 ],
 "metadata": {
  "kernelspec": {
   "display_name": "Python 3 (ipykernel)",
   "language": "python",
   "name": "python3"
  },
  "language_info": {
   "codemirror_mode": {
    "name": "ipython",
    "version": 3
   },
   "file_extension": ".py",
   "mimetype": "text/x-python",
   "name": "python",
   "nbconvert_exporter": "python",
   "pygments_lexer": "ipython3",
   "version": "3.9.13"
  }
 },
 "nbformat": 4,
 "nbformat_minor": 5
}
