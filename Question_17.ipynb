{
 "cells": [
  {
   "cell_type": "markdown",
   "id": "cbdc2807",
   "metadata": {},
   "source": [
    "# Python Basic Question"
   ]
  },
  {
   "cell_type": "markdown",
   "id": "25f24263",
   "metadata": {},
   "source": [
    "### Extract The Duplicate value From the List. "
   ]
  },
  {
   "cell_type": "code",
   "execution_count": 1,
   "id": "8d6d2eef",
   "metadata": {},
   "outputs": [
    {
     "name": "stdout",
     "output_type": "stream",
     "text": [
      "Original List: ['apple', 'banana', 'orange', 'banana', 'kiwi', 'kiwi', 'orange']\n",
      "Duplicate Values: ['orange', 'kiwi', 'banana']\n"
     ]
    }
   ],
   "source": [
    "my_list = [\"apple\", \"banana\", \"orange\", \"banana\", \"kiwi\", \"kiwi\", \"orange\"]\n",
    "unique_set = set(my_list)\n",
    "duplicate_list = list(set([x for x in my_list if my_list.count(x) > 1]))\n",
    "\n",
    "print(\"Original List:\", my_list)\n",
    "print(\"Duplicate Values:\", duplicate_list)\n"
   ]
  },
  {
   "cell_type": "markdown",
   "id": "04a2c5ff",
   "metadata": {},
   "source": [
    "# OR"
   ]
  },
  {
   "cell_type": "code",
   "execution_count": 10,
   "id": "264c7ff6",
   "metadata": {},
   "outputs": [
    {
     "name": "stdout",
     "output_type": "stream",
     "text": [
      "Old List :- ['prince', 'virat', 'Anuska', 'siraj', 'prince', 'prince', 'fafe', 'gleyn', 'virat', 'Ankit']\n",
      "Duplicate value :- {'virat', 'prince'}\n"
     ]
    }
   ],
   "source": [
    "x=[\"prince\",\"virat\",\"Anuska\",\"siraj\",\"prince\",\"prince\",\"fafe\",\"gleyn\",\"virat\",\"Ankit\"]\n",
    "y=set()\n",
    "for i in x:\n",
    "    if x.count(i)>1:\n",
    "        y.update([i])\n",
    "print(\"Old List :-\",x)\n",
    "print(\"Duplicate value :-\" ,y)"
   ]
  },
  {
   "cell_type": "code",
   "execution_count": 9,
   "id": "ba9c9596",
   "metadata": {},
   "outputs": [
    {
     "data": {
      "text/plain": [
       "{'prince', 'virat'}"
      ]
     },
     "execution_count": 9,
     "metadata": {},
     "output_type": "execute_result"
    }
   ],
   "source": [
    "y"
   ]
  },
  {
   "cell_type": "markdown",
   "id": "e6cdb05f",
   "metadata": {},
   "source": [
    "# or"
   ]
  },
  {
   "cell_type": "code",
   "execution_count": null,
   "id": "ade98e17",
   "metadata": {},
   "outputs": [],
   "source": []
  },
  {
   "cell_type": "markdown",
   "id": "2e90872e",
   "metadata": {},
   "source": [
    "# Done ----------------------------------------------------📝📝📝"
   ]
  },
  {
   "cell_type": "code",
   "execution_count": null,
   "id": "3469e307",
   "metadata": {},
   "outputs": [],
   "source": []
  }
 ],
 "metadata": {
  "kernelspec": {
   "display_name": "Python 3 (ipykernel)",
   "language": "python",
   "name": "python3"
  },
  "language_info": {
   "codemirror_mode": {
    "name": "ipython",
    "version": 3
   },
   "file_extension": ".py",
   "mimetype": "text/x-python",
   "name": "python",
   "nbconvert_exporter": "python",
   "pygments_lexer": "ipython3",
   "version": "3.9.13"
  }
 },
 "nbformat": 4,
 "nbformat_minor": 5
}
