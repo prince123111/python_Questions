{
 "cells": [
  {
   "cell_type": "markdown",
   "id": "49e30264",
   "metadata": {},
   "source": [
    "# Python Basic Question____"
   ]
  },
  {
   "cell_type": "markdown",
   "id": "d9f249f4",
   "metadata": {},
   "source": [
    "#### show the pair of \"prince\",\"ankit\" how many time reapeted in this list."
   ]
  },
  {
   "cell_type": "code",
   "execution_count": 1,
   "id": "cb4d36d3",
   "metadata": {},
   "outputs": [
    {
     "name": "stdout",
     "output_type": "stream",
     "text": [
      "2 Times Repeated ['prince', 'ankit']\n"
     ]
    }
   ],
   "source": [
    "\n",
    "name=[\"prince\",\"ankit\",\"manu\",\"rahul\",\"Bhanu\",\"muskan\",\"kumod\",\"prince\",\"ankit\",\"anmol\"]\n",
    "pair=[\"prince\",\"ankit\"]\n",
    "x=0\n",
    "#output should be =>>>  2\n",
    "for i in range(len(name)):\n",
    "\tfor j in range(len(pair)):\n",
    "\t\tif name[i+j]==pair[j] and j==len(pair)-1:\n",
    "\t\t\tx+=1\n",
    "\t\tif name[i+j]!=pair[j]:\n",
    "\t\t\tbreak\n",
    "\tif i==len(name)-len(pair):\n",
    "\t\tbreak\n",
    "print(x,\"Times Repeated\",pair)"
   ]
  },
  {
   "cell_type": "code",
   "execution_count": null,
   "id": "6cc01190",
   "metadata": {},
   "outputs": [],
   "source": []
  },
  {
   "cell_type": "code",
   "execution_count": 17,
   "id": "b27280ad",
   "metadata": {},
   "outputs": [],
   "source": [
    "# ITs not a Perfect code perfect is given upper\n",
    "c=0\n",
    "Name=[\"prince\",\"kumar\",\"sharma\",\"prince\",\"sharma\",\"manu\",\"prince\",\"rinku\",\"ritika\",\"rishu\",\"riya\",\"muskan\",\"khushi\",\"riya jain\",\"kumar\",\"pooja\",\"ruchika\"]\n",
    "find=[\"prince\",\"kumar\"]\n",
    "for i in range(len(Name)):\n",
    "    for j in range(len(find)):\n",
    "        if Name[i]==find[j]:\n",
    "            c+=1"
   ]
  },
  {
   "cell_type": "code",
   "execution_count": 18,
   "id": "83cbe1c2",
   "metadata": {},
   "outputs": [
    {
     "data": {
      "text/plain": [
       "5"
      ]
     },
     "execution_count": 18,
     "metadata": {},
     "output_type": "execute_result"
    }
   ],
   "source": [
    "c"
   ]
  },
  {
   "cell_type": "code",
   "execution_count": 19,
   "id": "eabe000b",
   "metadata": {},
   "outputs": [],
   "source": [
    "Name=[\"prince\",\"kumar\",\"sharma\",\"prince\",\"sharma\",\"manu\",\"prince\",\"rinku\",\"ritika\",\"rishu\",\"riya\",\"muskan\",\"khushi\",\"riya jain\",\"kumar\",\"pooja\",\"ruchika\"]\n",
    "find=[\"prince\",\"kumar\"]"
   ]
  },
  {
   "cell_type": "code",
   "execution_count": null,
   "id": "bc729050",
   "metadata": {},
   "outputs": [],
   "source": []
  },
  {
   "cell_type": "markdown",
   "id": "5d40472f",
   "metadata": {},
   "source": [
    "# Done ------------------------------------------------------------------------------.📝📝📝📝📝"
   ]
  },
  {
   "cell_type": "code",
   "execution_count": null,
   "id": "2515632b",
   "metadata": {},
   "outputs": [],
   "source": []
  },
  {
   "cell_type": "code",
   "execution_count": null,
   "id": "36deb035",
   "metadata": {},
   "outputs": [],
   "source": []
  },
  {
   "cell_type": "code",
   "execution_count": null,
   "id": "6fb92012",
   "metadata": {},
   "outputs": [],
   "source": []
  }
 ],
 "metadata": {
  "kernelspec": {
   "display_name": "Python 3 (ipykernel)",
   "language": "python",
   "name": "python3"
  },
  "language_info": {
   "codemirror_mode": {
    "name": "ipython",
    "version": 3
   },
   "file_extension": ".py",
   "mimetype": "text/x-python",
   "name": "python",
   "nbconvert_exporter": "python",
   "pygments_lexer": "ipython3",
   "version": "3.9.13"
  }
 },
 "nbformat": 4,
 "nbformat_minor": 5
}
