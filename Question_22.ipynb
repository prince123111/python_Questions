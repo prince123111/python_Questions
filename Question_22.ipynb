{
 "cells": [
  {
   "cell_type": "markdown",
   "id": "74899cb3",
   "metadata": {},
   "source": [
    "# Python basic Question "
   ]
  },
  {
   "cell_type": "markdown",
   "id": "ba365158",
   "metadata": {},
   "source": [
    "#### Extract the strings from the strings\n",
    "#### how many time reapeted abc in x string"
   ]
  },
  {
   "cell_type": "code",
   "execution_count": 1,
   "id": "d5da3fdb",
   "metadata": {},
   "outputs": [
    {
     "name": "stdout",
     "output_type": "stream",
     "text": [
      "2\n"
     ]
    }
   ],
   "source": [
    "x=\"abcdcdc\" \n",
    "y=\"cdc\"\n",
    "count=0\n",
    "for i in range(len(x)):\n",
    "\tfor j in range(len(y)):\n",
    "\t\tif x[i+j]==y[j] and j==len(y)-1:\n",
    "\t\t\tcount+=1\n",
    "\t\tif x[i+j]!=y[j]:\n",
    "\t\t\tbreak\n",
    "\tif i==len(x)-len(y):\n",
    "\t\tbreak\n",
    "print(count)"
   ]
  },
  {
   "cell_type": "code",
   "execution_count": 13,
   "id": "36a9024c",
   "metadata": {},
   "outputs": [
    {
     "data": {
      "text/plain": [
       "5"
      ]
     },
     "execution_count": 13,
     "metadata": {},
     "output_type": "execute_result"
    }
   ],
   "source": [
    "x=\"princekumarsharmaritikarinku\"\n",
    "y=\"r\"\n",
    "c=0\n",
    "for i in range(len(x)):\n",
    "    for j in range(len(y)):\n",
    "        if x[i]==y[j] and j==len(y)-1:\n",
    "            c+=1\n",
    "        else:\n",
    "            pass\n",
    "c"
   ]
  },
  {
   "cell_type": "markdown",
   "id": "061cf90b",
   "metadata": {},
   "source": [
    "# Done _____________________________________________📝📝📝📝📝📝📝📝📝"
   ]
  },
  {
   "cell_type": "code",
   "execution_count": null,
   "id": "a27d9b79",
   "metadata": {},
   "outputs": [],
   "source": []
  }
 ],
 "metadata": {
  "kernelspec": {
   "display_name": "Python 3 (ipykernel)",
   "language": "python",
   "name": "python3"
  },
  "language_info": {
   "codemirror_mode": {
    "name": "ipython",
    "version": 3
   },
   "file_extension": ".py",
   "mimetype": "text/x-python",
   "name": "python",
   "nbconvert_exporter": "python",
   "pygments_lexer": "ipython3",
   "version": "3.9.13"
  }
 },
 "nbformat": 4,
 "nbformat_minor": 5
}
