{
 "cells": [
  {
   "cell_type": "markdown",
   "id": "994eeb66",
   "metadata": {},
   "source": [
    "# Python Basic question\n"
   ]
  },
  {
   "cell_type": "markdown",
   "id": "9bac837b",
   "metadata": {},
   "source": [
    "### Q1. count How many Year  in Leap year Between 1998 to 2023 "
   ]
  },
  {
   "cell_type": "code",
   "execution_count": 13,
   "id": "4de9462a",
   "metadata": {},
   "outputs": [
    {
     "name": "stdout",
     "output_type": "stream",
     "text": [
      "Enter the first starting NUmber :-1998\n",
      "Enter the Ending of the Number :-2023\n",
      "Year is Leap Year :-  2000\n",
      "Year is Leap Year :-  2004\n",
      "Year is Leap Year :-  2008\n",
      "Year is Leap Year :-  2012\n",
      "Year is Leap Year :-  2016\n",
      "Year is Leap Year :-  2020\n"
     ]
    }
   ],
   "source": [
    "import calendar\n",
    "for year in range(int(input(\"Enter the first starting NUmber :-\")),int(input(\"Enter the Ending of the Number :-\"))):\n",
    "    if calendar.isleap(year):\n",
    "        print(\"Year is Leap Year :- \",year)\n"
   ]
  },
  {
   "cell_type": "markdown",
   "id": "25e70d88",
   "metadata": {},
   "source": [
    "### Q2. create the Dictionary with the help fo the user input"
   ]
  },
  {
   "cell_type": "code",
   "execution_count": 3,
   "id": "c76543dd",
   "metadata": {},
   "outputs": [
    {
     "name": "stdout",
     "output_type": "stream",
     "text": [
      "Entehr the Length of the Dictionary :- 5\n",
      "Enter the Keys :- \"prince kumar sharma\"\n",
      "Enter the vlaues :-23\n",
      "Enter the Keys :- \"Ashmita sharma\"\n",
      "Enter the vlaues :-18\n",
      "Enter the Keys :- \"Mamta sharma\"\n",
      "Enter the vlaues :-45\n",
      "Enter the Keys :- \"Dr Babita sharma\"\n",
      "Enter the vlaues :-40\n",
      "Enter the Keys :- \"tulsi sharma\"\n",
      "Enter the vlaues :-15\n"
     ]
    },
    {
     "data": {
      "text/plain": [
       "{'prince kumar sharma': 23,\n",
       " 'Ashmita sharma': 18,\n",
       " 'Mamta sharma': 45,\n",
       " 'Dr Babita sharma': 40,\n",
       " 'tulsi sharma': 15}"
      ]
     },
     "execution_count": 3,
     "metadata": {},
     "output_type": "execute_result"
    }
   ],
   "source": [
    "dic={}\n",
    "l=int(input(\"Entehr the Length of the Dictionary :- \"))\n",
    "for i in range(l):\n",
    "    keys=eval(input(\"Enter the Keys :- \"))\n",
    "    values=eval(input(\"Enter the vlaues :-\" ))\n",
    "    dic[keys]=values\n",
    "dic\n",
    "    "
   ]
  },
  {
   "cell_type": "markdown",
   "id": "32bd1b6b",
   "metadata": {},
   "source": [
    "### Q3.  \"Himachal Pradesh\"\n",
    "#### Print the Reverse string with the Help of while Loop and For Loop ?"
   ]
  },
  {
   "cell_type": "code",
   "execution_count": 12,
   "id": "140816b6",
   "metadata": {},
   "outputs": [
    {
     "name": "stdout",
     "output_type": "stream",
     "text": [
      "hsedarP lahcamiH"
     ]
    }
   ],
   "source": [
    "x=\"Himachal Pradesh\"\n",
    "y=len(x)\n",
    "z=0\n",
    "while y>z:\n",
    "    y-=1\n",
    "    print(x[y],end=\"\")"
   ]
  },
  {
   "cell_type": "code",
   "execution_count": 27,
   "id": "a04a2c03",
   "metadata": {},
   "outputs": [
    {
     "name": "stdout",
     "output_type": "stream",
     "text": [
      "Himachal Pradesh"
     ]
    }
   ],
   "source": [
    "x=\"Himachal Pradesh\"\n",
    "y=len(x)\n",
    "for i in range(y):\n",
    "    print(x[i],end=\"\")"
   ]
  },
  {
   "cell_type": "code",
   "execution_count": 21,
   "id": "2977dfe5",
   "metadata": {},
   "outputs": [],
   "source": [
    "x=[\"a\",\"b\",\"a\",\"h\",\"b\",\"k\",\"o\",\"h\"]\n",
    "##Q4. Extract the String that have two times repeated"
   ]
  },
  {
   "cell_type": "code",
   "execution_count": 29,
   "id": "68ae436c",
   "metadata": {},
   "outputs": [
    {
     "name": "stdout",
     "output_type": "stream",
     "text": [
      "h\n",
      "h\n"
     ]
    }
   ],
   "source": [
    "for i in x:\n",
    "    if x.count(i)==2:\n",
    "        print(i)"
   ]
  },
  {
   "cell_type": "markdown",
   "id": "ca4cec2e",
   "metadata": {},
   "source": [
    "### Q4 Print the Back Counting With the help of while loop ?"
   ]
  },
  {
   "cell_type": "code",
   "execution_count": 31,
   "id": "6b901578",
   "metadata": {},
   "outputs": [
    {
     "name": "stdout",
     "output_type": "stream",
     "text": [
      "100\n",
      "99\n",
      "98\n",
      "97\n",
      "96\n",
      "95\n",
      "94\n",
      "93\n",
      "92\n",
      "91\n",
      "90\n",
      "89\n",
      "88\n",
      "87\n",
      "86\n",
      "85\n",
      "84\n",
      "83\n",
      "82\n",
      "81\n",
      "80\n",
      "79\n",
      "78\n",
      "77\n",
      "76\n",
      "75\n",
      "74\n",
      "73\n",
      "72\n",
      "71\n",
      "70\n",
      "69\n",
      "68\n",
      "67\n",
      "66\n",
      "65\n",
      "64\n",
      "63\n",
      "62\n",
      "61\n",
      "60\n",
      "59\n",
      "58\n",
      "57\n",
      "56\n",
      "55\n",
      "54\n",
      "53\n",
      "52\n",
      "51\n",
      "50\n",
      "49\n",
      "48\n",
      "47\n",
      "46\n",
      "45\n",
      "44\n",
      "43\n",
      "42\n",
      "41\n",
      "40\n",
      "39\n",
      "38\n",
      "37\n",
      "36\n",
      "35\n",
      "34\n",
      "33\n",
      "32\n",
      "31\n",
      "30\n",
      "29\n",
      "28\n",
      "27\n",
      "26\n",
      "25\n",
      "24\n",
      "23\n",
      "22\n",
      "21\n",
      "20\n",
      "19\n",
      "18\n",
      "17\n",
      "16\n",
      "15\n",
      "14\n",
      "13\n",
      "12\n",
      "11\n",
      "10\n",
      "9\n",
      "8\n",
      "7\n",
      "6\n",
      "5\n",
      "4\n",
      "3\n",
      "2\n"
     ]
    }
   ],
   "source": [
    "for i in range(100,1,-1):\n",
    "    print(i)"
   ]
  },
  {
   "cell_type": "code",
   "execution_count": null,
   "id": "26a4cb46",
   "metadata": {},
   "outputs": [],
   "source": []
  }
 ],
 "metadata": {
  "kernelspec": {
   "display_name": "Python 3 (ipykernel)",
   "language": "python",
   "name": "python3"
  },
  "language_info": {
   "codemirror_mode": {
    "name": "ipython",
    "version": 3
   },
   "file_extension": ".py",
   "mimetype": "text/x-python",
   "name": "python",
   "nbconvert_exporter": "python",
   "pygments_lexer": "ipython3",
   "version": "3.9.13"
  }
 },
 "nbformat": 4,
 "nbformat_minor": 5
}
