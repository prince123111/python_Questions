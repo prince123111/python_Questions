{
 "cells": [
  {
   "cell_type": "markdown",
   "id": "38fdf322",
   "metadata": {},
   "source": [
    "# Python Basic Interview Question"
   ]
  },
  {
   "cell_type": "markdown",
   "id": "f69a5a53",
   "metadata": {},
   "source": [
    "# 5. Write a program to swap the key value pair for max and min values Eg if the dict is like this {‘a’:1,’b’:2,’c’:3}\n",
    "# Output should be {a:3,b:2,c:1}\n"
   ]
  },
  {
   "cell_type": "code",
   "execution_count": 3,
   "id": "a14d760d",
   "metadata": {},
   "outputs": [
    {
     "name": "stdout",
     "output_type": "stream",
     "text": [
      "enter length of the dictionary :-4\n",
      "enter keys of the dictionary :-\"prince\"\n",
      "enter values of the dictionary :-10\n",
      "enter keys of the dictionary :-\"mamta sharma\"\n",
      "enter values of the dictionary :-12\n",
      "enter keys of the dictionary :-\"priya sharma\"\n",
      "enter values of the dictionary :-15\n",
      "enter keys of the dictionary :-\"priyanshu\"\n",
      "enter values of the dictionary :-9\n",
      "\n",
      " {'prince': 10, 'mamta sharma': 12, 'priya sharma': 15, 'priyanshu': 9}\n",
      "\n",
      " {'prince': 15, 'mamta sharma': 12, 'priya sharma': 10, 'priyanshu': 9}\n"
     ]
    }
   ],
   "source": [
    "dic={}\n",
    "for i in range(int(input(\"enter length of the dictionary :-\"))):\n",
    "    k=eval(input(\"enter keys of the dictionary :-\"))\n",
    "    v=eval(input(\"enter values of the dictionary :-\"))\n",
    "    dic.update({k:v})\n",
    "print(\"\\n\",dic)\n",
    "x=sorted(dic.values(),reverse=True)\n",
    "y=list(dic.keys())\n",
    "z=0\n",
    "for i in x:\n",
    "    dic.update({y[0+z]:i})\n",
    "    z+=1\n",
    "print(\"\\n\",dic)"
   ]
  },
  {
   "cell_type": "markdown",
   "id": "68959176",
   "metadata": {},
   "source": [
    "# Reverse the Dictionary key to Values or Values to keys"
   ]
  },
  {
   "cell_type": "code",
   "execution_count": 5,
   "id": "d3b297f8",
   "metadata": {},
   "outputs": [
    {
     "name": "stdout",
     "output_type": "stream",
     "text": [
      "enter length of the dictionary :-4\n",
      "enter keys of the dictionary :-\"mamta shrama\"\n",
      "enter values of the dictionary :-45\n",
      "enter keys of the dictionary :-'pappu kumar'\n",
      "enter values of the dictionary :-28\n",
      "enter keys of the dictionary :-\"prince kumar\"\n",
      "enter values of the dictionary :-23\n",
      "enter keys of the dictionary :-\"priya sharma\"\n",
      "enter values of the dictionary :-25\n",
      "\n",
      " {'mamta shrama': 45, 'pappu kumar': 28, 'prince kumar': 23, 'priya sharma': 25}\n"
     ]
    },
    {
     "data": {
      "text/plain": [
       "{45: 'mamta shrama', 28: 'pappu kumar', 23: 'prince kumar', 25: 'priya sharma'}"
      ]
     },
     "execution_count": 5,
     "metadata": {},
     "output_type": "execute_result"
    }
   ],
   "source": [
    "dic={}\n",
    "for i in range(int(input(\"enter length of the dictionary :-\"))):\n",
    "    k=eval(input(\"enter keys of the dictionary :-\"))\n",
    "    v=eval(input(\"enter values of the dictionary :-\"))\n",
    "    dic.update({k:v})\n",
    "print(\"\\n\",dic)\n",
    "f={}\n",
    "for i,j in dic.items():\n",
    "    f.update({j:i})\n",
    "f"
   ]
  },
  {
   "cell_type": "markdown",
   "id": "3d1ccddc",
   "metadata": {},
   "source": [
    "# Sort the values And keys shoud not be changes"
   ]
  },
  {
   "cell_type": "code",
   "execution_count": 7,
   "id": "c40e1357",
   "metadata": {},
   "outputs": [
    {
     "name": "stdout",
     "output_type": "stream",
     "text": [
      "{'a': 3, 'b': 2, 'c': 1}\n"
     ]
    }
   ],
   "source": [
    "a={'a': 1, 'b': 2, 'c': 3}\n",
    "b=sorted(a.values(),reverse=True)\n",
    "c=list(a.keys())\n",
    "d=0\n",
    "for i in b:\n",
    "    a.update({c[0+d]:i})\n",
    "    d+=1\n",
    "print(a)\n",
    "    \n",
    "    "
   ]
  },
  {
   "cell_type": "markdown",
   "id": "960acb59",
   "metadata": {},
   "source": [
    "# Done_________"
   ]
  },
  {
   "cell_type": "code",
   "execution_count": null,
   "id": "2b5849e2",
   "metadata": {},
   "outputs": [],
   "source": []
  }
 ],
 "metadata": {
  "kernelspec": {
   "display_name": "Python 3 (ipykernel)",
   "language": "python",
   "name": "python3"
  },
  "language_info": {
   "codemirror_mode": {
    "name": "ipython",
    "version": 3
   },
   "file_extension": ".py",
   "mimetype": "text/x-python",
   "name": "python",
   "nbconvert_exporter": "python",
   "pygments_lexer": "ipython3",
   "version": "3.9.13"
  }
 },
 "nbformat": 4,
 "nbformat_minor": 5
}
