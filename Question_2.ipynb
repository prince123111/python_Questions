{
 "cells": [
  {
   "cell_type": "markdown",
   "id": "6f0b4a4e",
   "metadata": {},
   "source": [
    "# find the smallest number int the list that is not presents\n"
   ]
  },
  {
   "cell_type": "code",
   "execution_count": 2,
   "id": "4231807b",
   "metadata": {},
   "outputs": [
    {
     "name": "stdout",
     "output_type": "stream",
     "text": [
      "2\n"
     ]
    }
   ],
   "source": [
    "x=[-1,0,-5,5,1,3,9,10]\n",
    "y=max(x)\n",
    "for i in range(0,y+1):\n",
    "\tif i not in x:\n",
    "\t\tprint(i)\n",
    "\t\tbreak"
   ]
  },
  {
   "cell_type": "markdown",
   "id": "abf7135a",
   "metadata": {},
   "source": [
    "## Smallest Number That's Not Present in the List"
   ]
  },
  {
   "cell_type": "code",
   "execution_count": 5,
   "id": "e03f6edd",
   "metadata": {},
   "outputs": [
    {
     "name": "stdout",
     "output_type": "stream",
     "text": [
      "1\n"
     ]
    }
   ],
   "source": [
    "x=[-1,0,3,4,5,9,-5]\n",
    "for i in range(max(x)):\n",
    "    if i not in x:\n",
    "        print(i)\n",
    "        break"
   ]
  },
  {
   "cell_type": "markdown",
   "id": "5c5a9bfb",
   "metadata": {},
   "source": [
    "## Larget Number that's Not Present in the List"
   ]
  },
  {
   "cell_type": "code",
   "execution_count": 9,
   "id": "d05166d9",
   "metadata": {},
   "outputs": [],
   "source": [
    "y=[]\n",
    "x=[-1,0,3,4,5,9,-5]\n",
    "for i in range(max(x)):\n",
    "    if i not in x:\n",
    "        y.append(i)"
   ]
  },
  {
   "cell_type": "code",
   "execution_count": 10,
   "id": "9d2e7212",
   "metadata": {},
   "outputs": [
    {
     "data": {
      "text/plain": [
       "8"
      ]
     },
     "execution_count": 10,
     "metadata": {},
     "output_type": "execute_result"
    }
   ],
   "source": [
    "max(y)"
   ]
  },
  {
   "cell_type": "code",
   "execution_count": 11,
   "id": "40162c89",
   "metadata": {},
   "outputs": [
    {
     "data": {
      "text/plain": [
       "1"
      ]
     },
     "execution_count": 11,
     "metadata": {},
     "output_type": "execute_result"
    }
   ],
   "source": [
    "min(y)"
   ]
  },
  {
   "cell_type": "markdown",
   "id": "1f584303",
   "metadata": {},
   "source": [
    "#### Done  📝📝📝📝📝📝📝"
   ]
  },
  {
   "cell_type": "code",
   "execution_count": null,
   "id": "3cd384a4",
   "metadata": {},
   "outputs": [],
   "source": []
  }
 ],
 "metadata": {
  "kernelspec": {
   "display_name": "Python 3 (ipykernel)",
   "language": "python",
   "name": "python3"
  },
  "language_info": {
   "codemirror_mode": {
    "name": "ipython",
    "version": 3
   },
   "file_extension": ".py",
   "mimetype": "text/x-python",
   "name": "python",
   "nbconvert_exporter": "python",
   "pygments_lexer": "ipython3",
   "version": "3.9.13"
  }
 },
 "nbformat": 4,
 "nbformat_minor": 5
}
