{
 "cells": [
  {
   "cell_type": "markdown",
   "id": "602e9dd2",
   "metadata": {},
   "source": [
    "# Python Basic Question"
   ]
  },
  {
   "cell_type": "markdown",
   "id": "2481c854",
   "metadata": {},
   "source": [
    " "
   ]
  },
  {
   "cell_type": "markdown",
   "id": "fa8e626e",
   "metadata": {},
   "source": [
    "## Python3 code to demonstrate working of\n",
    "## Maximum and Minimum K elements in Tuple"
   ]
  },
  {
   "cell_type": "code",
   "execution_count": 8,
   "id": "5a44983b",
   "metadata": {},
   "outputs": [
    {
     "name": "stdout",
     "output_type": "stream",
     "text": [
      "The original tuple is : (5, 20, 3, 7, 6, 8)\n",
      "The extracted values : (3, 5, 8, 20)\n"
     ]
    }
   ],
   "source": [
    "\n",
    "test_tup = (5, 20, 3, 7, 6, 8)\n",
    "\n",
    "# printing original tuple\n",
    "print(\"The original tuple is : \" + str(test_tup))\n",
    "\n",
    "# initializing K\n",
    "K = 2\n",
    "\n",
    "# Maximum and Minimum K elements in Tuple\n",
    "# Using sorted() + loop\n",
    "res = []\n",
    "test_tup = list(sorted(test_tup))\n",
    "\n",
    "for idx, val in enumerate(test_tup):\n",
    "    if idx < K or idx >= len(test_tup) - K:\n",
    "        res.append(val)\n",
    "res = tuple(res)\n",
    "\n",
    "# printing result\n",
    "print(\"The extracted values : \" + str(res))"
   ]
  },
  {
   "cell_type": "code",
   "execution_count": 9,
   "id": "3c18eb30",
   "metadata": {},
   "outputs": [
    {
     "name": "stdout",
     "output_type": "stream",
     "text": [
      "The Extracted :-  (45, 78, 56, 89, 12, 45, 56, 89, 25)\n"
     ]
    }
   ],
   "source": [
    "x=(45,78,56,89,12,45,56,89,25)\n",
    "print(\"The Extracted :- \",x)"
   ]
  },
  {
   "cell_type": "code",
   "execution_count": null,
   "id": "83e3b975",
   "metadata": {},
   "outputs": [],
   "source": []
  },
  {
   "cell_type": "code",
   "execution_count": null,
   "id": "91139b5b",
   "metadata": {},
   "outputs": [],
   "source": []
  }
 ],
 "metadata": {
  "kernelspec": {
   "display_name": "Python 3 (ipykernel)",
   "language": "python",
   "name": "python3"
  },
  "language_info": {
   "codemirror_mode": {
    "name": "ipython",
    "version": 3
   },
   "file_extension": ".py",
   "mimetype": "text/x-python",
   "name": "python",
   "nbconvert_exporter": "python",
   "pygments_lexer": "ipython3",
   "version": "3.9.13"
  }
 },
 "nbformat": 4,
 "nbformat_minor": 5
}
