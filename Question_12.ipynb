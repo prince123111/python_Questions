{
 "cells": [
  {
   "cell_type": "markdown",
   "id": "e1b87f94",
   "metadata": {},
   "source": [
    "## Python Basic Question "
   ]
  },
  {
   "cell_type": "code",
   "execution_count": null,
   "id": "1a884741",
   "metadata": {},
   "outputs": [],
   "source": []
  },
  {
   "cell_type": "code",
   "execution_count": null,
   "id": "2a3d6848",
   "metadata": {},
   "outputs": [],
   "source": []
  },
  {
   "cell_type": "code",
   "execution_count": 3,
   "id": "4a08d7b4",
   "metadata": {},
   "outputs": [
    {
     "data": {
      "text/plain": [
       "['sun', 'mon', 'tues', 'wed', 'thurs', 'friday', 'saturday']"
      ]
     },
     "execution_count": 3,
     "metadata": {},
     "output_type": "execute_result"
    }
   ],
   "source": [
    "days=[\"sun\",\"mon\",\"tues\",\"wed\",\"thurs\",\"friday\",\"saturday\"]\n",
    "days"
   ]
  },
  {
   "cell_type": "markdown",
   "id": "f8d5f7d1",
   "metadata": {},
   "source": [
    "### Q15. if \"wed\" is present in the list so print \"Honesty is the Best Policy\" else print \"Hello Delhi\" ."
   ]
  },
  {
   "cell_type": "code",
   "execution_count": 4,
   "id": "ee86c429",
   "metadata": {},
   "outputs": [
    {
     "name": "stdout",
     "output_type": "stream",
     "text": [
      "Honesty is the Best Policy\n"
     ]
    }
   ],
   "source": [
    "if \"wed\" in days:\n",
    "    print(\"Honesty is the Best Policy\")\n",
    "else:\n",
    "    print(\"Hello delhi\")"
   ]
  },
  {
   "cell_type": "markdown",
   "id": "7794c2a5",
   "metadata": {},
   "source": [
    "### Q16. Find the Current Date and time"
   ]
  },
  {
   "cell_type": "code",
   "execution_count": 30,
   "id": "d6b0908c",
   "metadata": {},
   "outputs": [],
   "source": [
    "import datetime as prince"
   ]
  },
  {
   "cell_type": "code",
   "execution_count": 31,
   "id": "6c673bc9",
   "metadata": {},
   "outputs": [],
   "source": [
    "c=prince.datetime.now()"
   ]
  },
  {
   "cell_type": "code",
   "execution_count": 32,
   "id": "cc7a6753",
   "metadata": {},
   "outputs": [
    {
     "data": {
      "text/plain": [
       "datetime.datetime(2023, 5, 5, 17, 35, 47, 109680)"
      ]
     },
     "execution_count": 32,
     "metadata": {},
     "output_type": "execute_result"
    }
   ],
   "source": [
    "c"
   ]
  },
  {
   "cell_type": "code",
   "execution_count": 33,
   "id": "ef0d6b28",
   "metadata": {},
   "outputs": [
    {
     "data": {
      "text/plain": [
       "datetime.datetime(2023, 5, 5, 12, 5, 48, 970873)"
      ]
     },
     "execution_count": 33,
     "metadata": {},
     "output_type": "execute_result"
    }
   ],
   "source": [
    "datetime.utcnow()"
   ]
  },
  {
   "cell_type": "code",
   "execution_count": 34,
   "id": "5db75592",
   "metadata": {},
   "outputs": [],
   "source": [
    "from datetime import datetime"
   ]
  },
  {
   "cell_type": "code",
   "execution_count": 36,
   "id": "1097ddde",
   "metadata": {},
   "outputs": [
    {
     "data": {
      "text/plain": [
       "datetime.datetime(2023, 5, 5, 12, 6, 10, 160387)"
      ]
     },
     "execution_count": 36,
     "metadata": {},
     "output_type": "execute_result"
    }
   ],
   "source": [
    "datetime.utcnow()"
   ]
  },
  {
   "cell_type": "markdown",
   "id": "1aa2c412",
   "metadata": {},
   "source": [
    "### Q17. Replace every whitespace with \"**\""
   ]
  },
  {
   "cell_type": "code",
   "execution_count": 41,
   "id": "8ad8967a",
   "metadata": {},
   "outputs": [
    {
     "name": "stdout",
     "output_type": "stream",
     "text": [
      "sun**mon**tues**wed**thurs**friday**saturday**"
     ]
    }
   ],
   "source": [
    "days=[\"sun\",\"mon\",\"tues\",\"wed\",\"thurs\",\"friday\",\"saturday\"]\n",
    "for i in range(len(days)):\n",
    "    print(days[i],end=\"**\")"
   ]
  },
  {
   "cell_type": "markdown",
   "id": "fd50dd00",
   "metadata": {},
   "source": [
    "### Q19. Print the list with the help of while Loop and with the range function both are compalsory."
   ]
  },
  {
   "cell_type": "code",
   "execution_count": 42,
   "id": "bc06a957",
   "metadata": {},
   "outputs": [
    {
     "name": "stdout",
     "output_type": "stream",
     "text": [
      "sun\n",
      "mon\n",
      "tues\n",
      "wed\n",
      "thurs\n",
      "friday\n",
      "saturday\n"
     ]
    }
   ],
   "source": [
    "days=[\"sun\",\"mon\",\"tues\",\"wed\",\"thurs\",\"friday\",\"saturday\"]\n",
    "x=0\n",
    "y=len(days)\n",
    "while x<y:\n",
    "    print(days[x])\n",
    "    x+=1"
   ]
  },
  {
   "cell_type": "code",
   "execution_count": 43,
   "id": "8705db26",
   "metadata": {},
   "outputs": [
    {
     "name": "stdout",
     "output_type": "stream",
     "text": [
      "sun\n",
      "mon\n",
      "tues\n",
      "wed\n",
      "thurs\n",
      "friday\n",
      "saturday\n"
     ]
    }
   ],
   "source": [
    "for i in range(len(days)):\n",
    "    print(days[i])"
   ]
  },
  {
   "cell_type": "markdown",
   "id": "69c42aef",
   "metadata": {},
   "source": [
    "### Q20. remove Thursday and convert set to tuple"
   ]
  },
  {
   "cell_type": "code",
   "execution_count": 47,
   "id": "25d9dde5",
   "metadata": {},
   "outputs": [],
   "source": [
    "days={\"sun\",\"mon\",\"tues\",\"wed\",\"thurs\",\"friday\",\"saturday\"}\n",
    "days.remove(\"thurs\")"
   ]
  },
  {
   "cell_type": "code",
   "execution_count": 48,
   "id": "4d53d1a9",
   "metadata": {},
   "outputs": [
    {
     "data": {
      "text/plain": [
       "{'friday', 'mon', 'saturday', 'sun', 'tues', 'wed'}"
      ]
     },
     "execution_count": 48,
     "metadata": {},
     "output_type": "execute_result"
    }
   ],
   "source": [
    "days"
   ]
  },
  {
   "cell_type": "code",
   "execution_count": 49,
   "id": "12c745ba",
   "metadata": {},
   "outputs": [
    {
     "data": {
      "text/plain": [
       "('saturday', 'sun', 'tues', 'friday', 'mon', 'wed')"
      ]
     },
     "execution_count": 49,
     "metadata": {},
     "output_type": "execute_result"
    }
   ],
   "source": [
    "tuple(days)"
   ]
  },
  {
   "cell_type": "code",
   "execution_count": null,
   "id": "a31409a0",
   "metadata": {},
   "outputs": [],
   "source": []
  }
 ],
 "metadata": {
  "kernelspec": {
   "display_name": "Python 3 (ipykernel)",
   "language": "python",
   "name": "python3"
  },
  "language_info": {
   "codemirror_mode": {
    "name": "ipython",
    "version": 3
   },
   "file_extension": ".py",
   "mimetype": "text/x-python",
   "name": "python",
   "nbconvert_exporter": "python",
   "pygments_lexer": "ipython3",
   "version": "3.9.13"
  }
 },
 "nbformat": 4,
 "nbformat_minor": 5
}
