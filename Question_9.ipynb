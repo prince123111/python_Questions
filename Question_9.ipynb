{
 "cells": [
  {
   "cell_type": "markdown",
   "id": "d0bf5f01",
   "metadata": {},
   "source": [
    "# Python Basic Interview questions"
   ]
  },
  {
   "cell_type": "markdown",
   "id": "4ebb3cba",
   "metadata": {},
   "source": [
    "# 6. Write a program that calculates and prints the value according to the given formula:\n",
    "### Q = Square root of [(2 * C * D)/H]\n",
    "### Following are the fixed values of C and H: C is 50. H is 30.\n"
   ]
  },
  {
   "cell_type": "code",
   "execution_count": 2,
   "id": "45218cd2",
   "metadata": {},
   "outputs": [
    {
     "name": "stdout",
     "output_type": "stream",
     "text": [
      "enter the Number According to this Question :-12,10,5\n",
      "Your input is :- [12, 10, 5]\n",
      "Number After caluculations :- 40.0\n",
      "Number After caluculations :- 33.333333333333336\n",
      "Number After caluculations :- 16.666666666666668\n",
      "And Square root of the number is :- [6, 5, 4]\n"
     ]
    }
   ],
   "source": [
    "import math\n",
    "d=[]\n",
    "lis=[]\n",
    "c=50\n",
    "h=30\n",
    "x=input(\"enter the Number According to this Question :-\").split(\",\")\n",
    "for i in x:\n",
    "    d.append(int(i))\n",
    "print(\"Your input is :-\",d)\n",
    "for i in d:   \n",
    "    \n",
    "    q=(2*c*i)/h\n",
    "    print(\"Number After caluculations :-\",q)\n",
    "    root=math.sqrt(q)\n",
    "    #print(int(root),end=\",\")\n",
    "    lis.append(int(root))\n",
    "print(\"And Square root of the number is :-\",lis)"
   ]
  },
  {
   "cell_type": "markdown",
   "id": "35bbcd98",
   "metadata": {},
   "source": [
    "# Done----------------------------------------------------------"
   ]
  },
  {
   "cell_type": "code",
   "execution_count": null,
   "id": "0b8b1f0b",
   "metadata": {},
   "outputs": [],
   "source": []
  }
 ],
 "metadata": {
  "kernelspec": {
   "display_name": "Python 3 (ipykernel)",
   "language": "python",
   "name": "python3"
  },
  "language_info": {
   "codemirror_mode": {
    "name": "ipython",
    "version": 3
   },
   "file_extension": ".py",
   "mimetype": "text/x-python",
   "name": "python",
   "nbconvert_exporter": "python",
   "pygments_lexer": "ipython3",
   "version": "3.9.13"
  }
 },
 "nbformat": 4,
 "nbformat_minor": 5
}
