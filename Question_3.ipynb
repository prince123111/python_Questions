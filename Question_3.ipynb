{
 "cells": [
  {
   "cell_type": "markdown",
   "id": "b9c8b6b1",
   "metadata": {},
   "source": [
    "Prince Kumar sharma"
   ]
  },
  {
   "cell_type": "markdown",
   "id": "b89eb4c7",
   "metadata": {},
   "source": [
    "#### python Interviews Questions"
   ]
  },
  {
   "cell_type": "markdown",
   "id": "11ad0bb4",
   "metadata": {},
   "source": [
    "## Question.  :- Calculate how many times names have been repeated in this list ? "
   ]
  },
  {
   "cell_type": "code",
   "execution_count": 6,
   "id": "291cc9ea",
   "metadata": {},
   "outputs": [
    {
     "name": "stdout",
     "output_type": "stream",
     "text": [
      "{'Prince': 3, 'Ankit': 3, 'Gautam': 1, 'Kohli': 1, 'Glyen': 1, 'Fafe': 1, 'Riya': 1, 'Rishu': 1, 'Rausan': 1, 'Bhanu': 1, 'Kumod': 1}\n"
     ]
    }
   ],
   "source": [
    "y={}\n",
    "x=[\"Prince\",\"Ankit\",\"Gautam\",\"Kohli\",\"Prince\",\"Prince\",\"Glyen\",\"Fafe\",\"Ankit\",\"Riya\",\"Rishu\",\"Rausan\",\"Ankit\",\"Bhanu\",\"Kumod\"]\n",
    "for i in x:\n",
    "    if i not in y:\n",
    "        y[i]=1\n",
    "    else:\n",
    "        y[i]+=1\n",
    "print(y)"
   ]
  },
  {
   "cell_type": "markdown",
   "id": "4d8d991c",
   "metadata": {},
   "source": [
    "#### Show How many times Kohli and Prince Repeated ?\n"
   ]
  },
  {
   "cell_type": "code",
   "execution_count": 13,
   "id": "7e9cd57e",
   "metadata": {},
   "outputs": [
    {
     "name": "stdout",
     "output_type": "stream",
     "text": [
      "Prince is Repeated 3 times\n",
      "Kohli is Repeated 1 times\n"
     ]
    }
   ],
   "source": [
    "for i,j in y.items():\n",
    "    if i in (\"Prince\",\"Kohli\"):\n",
    "        print(f\"{i} is Repeated {j} times\")"
   ]
  },
  {
   "cell_type": "code",
   "execution_count": null,
   "id": "06f8cca5",
   "metadata": {},
   "outputs": [],
   "source": []
  },
  {
   "cell_type": "markdown",
   "id": "63ce0139",
   "metadata": {},
   "source": [
    "## Done 📝📝📝📝📝"
   ]
  },
  {
   "cell_type": "code",
   "execution_count": null,
   "id": "3483c8b1",
   "metadata": {},
   "outputs": [],
   "source": []
  }
 ],
 "metadata": {
  "kernelspec": {
   "display_name": "Python 3 (ipykernel)",
   "language": "python",
   "name": "python3"
  },
  "language_info": {
   "codemirror_mode": {
    "name": "ipython",
    "version": 3
   },
   "file_extension": ".py",
   "mimetype": "text/x-python",
   "name": "python",
   "nbconvert_exporter": "python",
   "pygments_lexer": "ipython3",
   "version": "3.9.13"
  }
 },
 "nbformat": 4,
 "nbformat_minor": 5
}
