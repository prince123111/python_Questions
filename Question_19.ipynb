{
 "cells": [
  {
   "cell_type": "code",
   "execution_count": null,
   "id": "21cb17c0",
   "metadata": {},
   "outputs": [],
   "source": []
  },
  {
   "cell_type": "markdown",
   "id": "8046b38c",
   "metadata": {},
   "source": [
    "### Write a Python program to insert a given string at the beginning of all items in a list.  \n",
    "#### Sample list : [1,2,3,4], string : emp\n",
    "##### Expected output : ['emp1', 'emp2', 'emp3', 'emp4']\n"
   ]
  },
  {
   "cell_type": "markdown",
   "id": "3f0e47ab",
   "metadata": {},
   "source": [
    "### With Function"
   ]
  },
  {
   "cell_type": "code",
   "execution_count": 2,
   "id": "dd9ebb84",
   "metadata": {},
   "outputs": [
    {
     "name": "stdout",
     "output_type": "stream",
     "text": [
      "['emp1', 'emp2', 'emp3', 'emp4']\n"
     ]
    }
   ],
   "source": [
    "def adds(lst, string):\n",
    "    return [string + str(item) for item in lst]\n",
    "\n",
    "my_list = [1, 2, 3, 4]\n",
    "my_string = \"emp\"\n",
    "new_list = adds(my_list, my_string)\n",
    "print(new_list)  \n",
    "# Output: ['emp1', 'emp2', 'emp3', 'emp4']\n"
   ]
  },
  {
   "cell_type": "markdown",
   "id": "798293dc",
   "metadata": {},
   "source": [
    "## Without Function  "
   ]
  },
  {
   "cell_type": "code",
   "execution_count": 6,
   "id": "0c61550d",
   "metadata": {},
   "outputs": [
    {
     "name": "stdout",
     "output_type": "stream",
     "text": [
      "New List :-  ['emp1', 'emp2', 'emp3', 'emp4', 'emp5']\n"
     ]
    }
   ],
   "source": [
    "new_list=[]\n",
    "my_list=[1,2,3,4,5]\n",
    "my_str='emp'\n",
    "for i in my_list:\n",
    "    new_list.append(my_str+str(i))\n",
    "print(\"New List :- \",new_list)"
   ]
  },
  {
   "cell_type": "markdown",
   "id": "1cecfab8",
   "metadata": {},
   "source": [
    "Done __________________________________________________________________📝📝📝📝📝📝📝📝📝"
   ]
  },
  {
   "cell_type": "code",
   "execution_count": null,
   "id": "c6ba75d6",
   "metadata": {},
   "outputs": [],
   "source": []
  }
 ],
 "metadata": {
  "kernelspec": {
   "display_name": "Python 3 (ipykernel)",
   "language": "python",
   "name": "python3"
  },
  "language_info": {
   "codemirror_mode": {
    "name": "ipython",
    "version": 3
   },
   "file_extension": ".py",
   "mimetype": "text/x-python",
   "name": "python",
   "nbconvert_exporter": "python",
   "pygments_lexer": "ipython3",
   "version": "3.9.13"
  }
 },
 "nbformat": 4,
 "nbformat_minor": 5
}
