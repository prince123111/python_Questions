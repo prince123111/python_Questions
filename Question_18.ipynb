{
 "cells": [
  {
   "cell_type": "markdown",
   "id": "23456271",
   "metadata": {},
   "source": [
    "# Pyton Basic Question "
   ]
  },
  {
   "cell_type": "markdown",
   "id": "042f341e",
   "metadata": {},
   "source": [
    "#### Write a program that accepts a sentence and calculate the number of upper case letters and lower case letters. Suppose the input is supplied to the program: Hello world! Then, the output should be: UPPER CASE 1 LOWER CASE 9"
   ]
  },
  {
   "cell_type": "code",
   "execution_count": 1,
   "id": "3d1c50f6",
   "metadata": {},
   "outputs": [
    {
     "name": "stdout",
     "output_type": "stream",
     "text": [
      "UPPER CASE  1\n",
      "LOWER CASE  9\n"
     ]
    }
   ],
   "source": [
    "x=\"Hello world!\"\n",
    "y=0\n",
    "z=0\n",
    "for i in x:\n",
    "    if i.isupper():\n",
    "        y+=1\n",
    "    elif i.islower():\n",
    "        z+=1\n",
    "    elif i.isspace():\n",
    "        continue\n",
    "    else:\n",
    "        continue\n",
    "print(\"UPPER CASE \",y)\n",
    "print(\"LOWER CASE \",z)"
   ]
  },
  {
   "cell_type": "markdown",
   "id": "a7ecaaf2",
   "metadata": {},
   "source": [
    "# Done__________________________________📝📝📝📝📝📝"
   ]
  },
  {
   "cell_type": "code",
   "execution_count": null,
   "id": "a8762cb9",
   "metadata": {},
   "outputs": [],
   "source": []
  }
 ],
 "metadata": {
  "kernelspec": {
   "display_name": "Python 3 (ipykernel)",
   "language": "python",
   "name": "python3"
  },
  "language_info": {
   "codemirror_mode": {
    "name": "ipython",
    "version": 3
   },
   "file_extension": ".py",
   "mimetype": "text/x-python",
   "name": "python",
   "nbconvert_exporter": "python",
   "pygments_lexer": "ipython3",
   "version": "3.9.13"
  }
 },
 "nbformat": 4,
 "nbformat_minor": 5
}
