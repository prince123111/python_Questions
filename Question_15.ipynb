{
 "cells": [
  {
   "cell_type": "markdown",
   "id": "485098d0",
   "metadata": {},
   "source": [
    "# Python Basic Question"
   ]
  },
  {
   "cell_type": "markdown",
   "id": "3eef03e6",
   "metadata": {},
   "source": [
    "### Create a Program to find the sqrt of the Any Number Costomly ?"
   ]
  },
  {
   "cell_type": "code",
   "execution_count": 1,
   "id": "5985bdd7",
   "metadata": {},
   "outputs": [],
   "source": [
    "import math"
   ]
  },
  {
   "cell_type": "code",
   "execution_count": 4,
   "id": "134902f7",
   "metadata": {},
   "outputs": [
    {
     "name": "stdout",
     "output_type": "stream",
     "text": [
      "Enter the NUmber of Square root :-625\n",
      "The Square Root of this Number 625 is 25.0\n"
     ]
    }
   ],
   "source": [
    "x=int(input(\"Enter the NUmber of Square root :-\"))\n",
    "y=math.sqrt(x)\n",
    "print(f\"The Square Root of this Number {x} is {y}\")"
   ]
  },
  {
   "cell_type": "code",
   "execution_count": null,
   "id": "ae17be30",
   "metadata": {},
   "outputs": [],
   "source": [
    "def square_root(x):\n",
    "    y=math.sqrt(x)\n",
    "    print(f\"The Square Root of this Number {x} is {y}\")"
   ]
  },
  {
   "cell_type": "code",
   "execution_count": null,
   "id": "0b93194d",
   "metadata": {},
   "outputs": [],
   "source": [
    "x=int(input(\"Enter the NUmber of Square root :-\"))\n",
    "square_root(x)"
   ]
  },
  {
   "cell_type": "code",
   "execution_count": null,
   "id": "fb3f86da",
   "metadata": {},
   "outputs": [],
   "source": []
  }
 ],
 "metadata": {
  "kernelspec": {
   "display_name": "Python 3 (ipykernel)",
   "language": "python",
   "name": "python3"
  },
  "language_info": {
   "codemirror_mode": {
    "name": "ipython",
    "version": 3
   },
   "file_extension": ".py",
   "mimetype": "text/x-python",
   "name": "python",
   "nbconvert_exporter": "python",
   "pygments_lexer": "ipython3",
   "version": "3.9.13"
  }
 },
 "nbformat": 4,
 "nbformat_minor": 5
}
