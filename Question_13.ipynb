{
 "cells": [
  {
   "cell_type": "markdown",
   "id": "77453b14",
   "metadata": {},
   "source": [
    "# Python Basic Interview Question"
   ]
  },
  {
   "cell_type": "markdown",
   "id": "5c52770b",
   "metadata": {},
   "source": [
    "### Write a program which takes a input as a string and print * at all the even indexes Suppose the input is supplied to the program: deepanshu Then the output should be: [epnh*]"
   ]
  },
  {
   "cell_type": "code",
   "execution_count": null,
   "id": "8dcc3fc2",
   "metadata": {},
   "outputs": [],
   "source": []
  },
  {
   "cell_type": "code",
   "execution_count": 11,
   "id": "06dcddfc",
   "metadata": {},
   "outputs": [
    {
     "name": "stdout",
     "output_type": "stream",
     "text": [
      "Enter your string values: deepanshu\n",
      "*e*p*n*h*\n"
     ]
    }
   ],
   "source": [
    "x = str(input(\"Enter your string values: \"))\n",
    "z=\"\"\n",
    "for i in range(len(x)):\n",
    "    if i%2==0:\n",
    "        z+=\"*\"\n",
    "    else:\n",
    "        z+=x[i]\n",
    "print(z)"
   ]
  },
  {
   "cell_type": "markdown",
   "id": "b41a05e7",
   "metadata": {},
   "source": [
    "# Or"
   ]
  },
  {
   "cell_type": "code",
   "execution_count": 13,
   "id": "da92bb68",
   "metadata": {},
   "outputs": [
    {
     "name": "stdout",
     "output_type": "stream",
     "text": [
      "Enter the String :- epnh\n",
      "e*p*n*h*"
     ]
    }
   ],
   "source": [
    "x=input(\"Enter the String :- \")\n",
    "for i in range(len(x)):\n",
    "    print(x[i],end=\"*\")"
   ]
  },
  {
   "cell_type": "code",
   "execution_count": 15,
   "id": "aa19c807",
   "metadata": {},
   "outputs": [
    {
     "name": "stdout",
     "output_type": "stream",
     "text": [
      "Enter the Any Number :-deepanshu\n"
     ]
    },
    {
     "data": {
      "text/plain": [
       "'*e*p*n*h*'"
      ]
     },
     "execution_count": 15,
     "metadata": {},
     "output_type": "execute_result"
    }
   ],
   "source": [
    "x=input(\"Enter the Any Number :-\")\n",
    "y=\"\"\n",
    "for i in range(len(x)):\n",
    "    if i%2==0:\n",
    "        y+=\"*\"\n",
    "    else:\n",
    "        y+=x[i]\n",
    "\n",
    "y        "
   ]
  },
  {
   "cell_type": "markdown",
   "id": "e09e56fc",
   "metadata": {},
   "source": [
    "# Done----------------------------📝📝📝📝🐉"
   ]
  },
  {
   "cell_type": "code",
   "execution_count": null,
   "id": "9abab279",
   "metadata": {},
   "outputs": [],
   "source": []
  }
 ],
 "metadata": {
  "kernelspec": {
   "display_name": "Python 3 (ipykernel)",
   "language": "python",
   "name": "python3"
  },
  "language_info": {
   "codemirror_mode": {
    "name": "ipython",
    "version": 3
   },
   "file_extension": ".py",
   "mimetype": "text/x-python",
   "name": "python",
   "nbconvert_exporter": "python",
   "pygments_lexer": "ipython3",
   "version": "3.9.13"
  }
 },
 "nbformat": 4,
 "nbformat_minor": 5
}
